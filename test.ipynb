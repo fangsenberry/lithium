{
 "cells": [
  {
   "cell_type": "code",
   "execution_count": 1,
   "metadata": {},
   "outputs": [],
   "source": [
    "import lithium\n",
    "import importlib"
   ]
  },
  {
   "cell_type": "code",
   "execution_count": 4,
   "metadata": {},
   "outputs": [
    {
     "name": "stdout",
     "output_type": "stream",
     "text": [
      "num tokens of transcript: 17163\n"
     ]
    },
    {
     "data": {
      "application/vnd.jupyter.widget-view+json": {
       "model_id": "6eb32529fd8a43918a400c51f320a657",
       "version_major": 2,
       "version_minor": 0
      },
      "text/plain": [
       "Cleaning chunks:   0%|          | 0/32 [00:00<?, ?it/s]"
      ]
     },
     "metadata": {},
     "output_type": "display_data"
    }
   ],
   "source": [
    "importlib.reload(lithium)\n",
    "\n",
    "li = lithium.Lithium()\n",
    "\n",
    "with open(\"test/test.txt\", \"r\") as f:\n",
    "    unclean = f.read()\n",
    "    \n",
    "clean = li.clean_transcript(unclean)\n",
    "with open(\"test/test_clean.txt\", \"w\") as f:\n",
    "    f.write(clean)"
   ]
  }
 ],
 "metadata": {
  "kernelspec": {
   "display_name": "Python 3",
   "language": "python",
   "name": "python3"
  },
  "language_info": {
   "codemirror_mode": {
    "name": "ipython",
    "version": 3
   },
   "file_extension": ".py",
   "mimetype": "text/x-python",
   "name": "python",
   "nbconvert_exporter": "python",
   "pygments_lexer": "ipython3",
   "version": "3.11.7"
  }
 },
 "nbformat": 4,
 "nbformat_minor": 2
}
